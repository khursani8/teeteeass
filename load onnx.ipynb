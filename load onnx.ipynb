{
 "cells": [
  {
   "cell_type": "code",
   "execution_count": 24,
   "id": "4368021b-8458-4e57-bff7-9d201b9bdf0e",
   "metadata": {},
   "outputs": [],
   "source": [
    "import onnxruntime as ort\n",
    "from transformers import AutoTokenizer\n",
    "import numpy as np"
   ]
  },
  {
   "cell_type": "code",
   "execution_count": 5,
   "id": "75de8014-c349-483c-b747-5197cabec060",
   "metadata": {},
   "outputs": [],
   "source": [
    "MODEL_NAME = \"microsoft/deberta-v3-base\"\n",
    "repo_id = f\"khursani8/{MODEL_NAME.replace('/','_')}_onnx\""
   ]
  },
  {
   "cell_type": "code",
   "execution_count": 6,
   "id": "5c0945cf-3606-4fe9-98a7-45e746edee2e",
   "metadata": {},
   "outputs": [
    {
     "name": "stderr",
     "output_type": "stream",
     "text": [
      "/home/sani/miniconda3/envs/teeteeass/lib/python3.10/site-packages/transformers/convert_slow_tokenizer.py:550: UserWarning: The sentencepiece tokenizer that you are converting to a fast tokenizer uses the byte fallback option which is not implemented in the fast tokenizers. In practice this means that the fast version of the tokenizer can produce unknown tokens whereas the sentencepiece version would have converted these unknown tokens into a sequence of byte tokens matching the original piece of text.\n",
      "  warnings.warn(\n"
     ]
    }
   ],
   "source": [
    "tokenizer = AutoTokenizer.from_pretrained(MODEL_NAME)\n",
    "tokenizer.model_input_names = ['input_ids', 'attention_mask']"
   ]
  },
  {
   "cell_type": "code",
   "execution_count": 14,
   "id": "891eda0f-b725-4a2f-9305-8cfcc6e3232a",
   "metadata": {},
   "outputs": [],
   "source": [
    "Providers=[\"CPUExecutionProvider\"]\n",
    "sess = ort.InferenceSession(\"../build_onnx/onnx_models/microsoft/deberta-v3-base/model.onnx\", providers=Providers)"
   ]
  },
  {
   "cell_type": "code",
   "execution_count": 16,
   "id": "ce972324-f317-4b00-a0a6-d943ec24ca0b",
   "metadata": {},
   "outputs": [
    {
     "data": {
      "text/plain": [
       "['last_hidden_state']"
      ]
     },
     "execution_count": 16,
     "metadata": {},
     "output_type": "execute_result"
    }
   ],
   "source": [
    "output_names = [output.name for output in sess.get_outputs()]  # Adjust if you need specific outputs\n",
    "output_names"
   ]
  },
  {
   "cell_type": "code",
   "execution_count": 43,
   "id": "c92658d4-8d01-4788-8723-91e11284bcad",
   "metadata": {},
   "outputs": [
    {
     "data": {
      "text/plain": [
       "{'input_ids': array([[    1,  4557, 49267,   297,   845, 25294,     2]]),\n",
       " 'attention_mask': array([[1, 1, 1, 1, 1, 1, 1]])}"
      ]
     },
     "execution_count": 43,
     "metadata": {},
     "output_type": "execute_result"
    }
   ],
   "source": [
    "out = tokenizer(\"selamat pagi\",return_tensors='np')\n",
    "out = {**out}\n",
    "out"
   ]
  },
  {
   "cell_type": "code",
   "execution_count": 46,
   "id": "65a9f6c9-5fc7-443e-8bef-d691af128946",
   "metadata": {},
   "outputs": [
    {
     "data": {
      "text/plain": [
       "(1, 7, 768)"
      ]
     },
     "execution_count": 46,
     "metadata": {},
     "output_type": "execute_result"
    }
   ],
   "source": [
    "outputs = model.run(output_names, out)[0]\n",
    "outputs.shape"
   ]
  },
  {
   "cell_type": "code",
   "execution_count": null,
   "id": "f7ec8e14-25e0-45f9-98a2-f2fa7fdda9e8",
   "metadata": {},
   "outputs": [],
   "source": []
  }
 ],
 "metadata": {
  "kernelspec": {
   "display_name": "Python 3 (ipykernel)",
   "language": "python",
   "name": "python3"
  },
  "language_info": {
   "codemirror_mode": {
    "name": "ipython",
    "version": 3
   },
   "file_extension": ".py",
   "mimetype": "text/x-python",
   "name": "python",
   "nbconvert_exporter": "python",
   "pygments_lexer": "ipython3",
   "version": "3.10.14"
  }
 },
 "nbformat": 4,
 "nbformat_minor": 5
}
