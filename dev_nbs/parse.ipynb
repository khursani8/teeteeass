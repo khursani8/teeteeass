{
 "cells": [
  {
   "cell_type": "code",
   "execution_count": 1,
   "id": "a19c866c-80d3-4963-b970-521adc174de7",
   "metadata": {},
   "outputs": [],
   "source": [
    "import json\n",
    "from pathlib import Path\n",
    "import re"
   ]
  },
  {
   "cell_type": "code",
   "execution_count": 2,
   "id": "82c2047b-d5c1-417f-afd7-d4ed0e97ebbc",
   "metadata": {},
   "outputs": [],
   "source": [
    "def flatten_list(nested_list):\n",
    "    result = []\n",
    "    for element in nested_list:\n",
    "        if isinstance(element, list):\n",
    "            result.extend(flatten_list(element))\n",
    "        else:\n",
    "            result.append(element)\n",
    "    return result"
   ]
  },
  {
   "cell_type": "code",
   "execution_count": 3,
   "id": "d5b5f81b-ed9e-4e89-82fb-a716c9a7da3b",
   "metadata": {},
   "outputs": [
    {
     "data": {
      "text/plain": [
       "[PosixPath('source/dbp/johor-phoneme.json'),\n",
       " PosixPath('source/dbp/kedah-phoneme.json'),\n",
       " PosixPath('source/dbp/kelantan-phoneme.json'),\n",
       " PosixPath('source/dbp/melaka-phoneme.json'),\n",
       " PosixPath('source/dbp/negeri-sembilan-phoneme.json'),\n",
       " PosixPath('source/dbp/pahang-phoneme.json')]"
      ]
     },
     "execution_count": 3,
     "metadata": {},
     "output_type": "execute_result"
    }
   ],
   "source": [
    "paths = sorted(Path(\"./source/dbp/\").glob(\"*.json\"))\n",
    "paths"
   ]
  },
  {
   "cell_type": "code",
   "execution_count": 4,
   "id": "e0068f0f-be3a-436e-8bf3-b07bbd3ef289",
   "metadata": {},
   "outputs": [],
   "source": [
    "Path(\"source/dbp_clean/\").mkdir(exist_ok=True,parents=True)"
   ]
  },
  {
   "cell_type": "code",
   "execution_count": null,
   "id": "291b201e",
   "metadata": {},
   "outputs": [],
   "source": []
  },
  {
   "cell_type": "code",
   "execution_count": 5,
   "id": "c5f50de0-f579-4b3f-af15-7394d5f96276",
   "metadata": {},
   "outputs": [],
   "source": [
    "for path in paths:\n",
    "    text = json.loads(path.read_text())\n",
    "    texts = \" \".join(flatten_list(sorted(text.keys()))).split(\" \")\n",
    "    target = f\"source/dbp_clean/{path.stem.split('-')[0]}.list\"\n",
    "    with open(target,'w+') as o:\n",
    "        for t in texts:\n",
    "            o.write(re.sub(r'[^a-z]', '', t.lower())+'|'+'pending'+\"\\n\")"
   ]
  },
  {
   "cell_type": "code",
   "execution_count": null,
   "id": "1ed4763c-ad48-4cdc-8e74-09688d713486",
   "metadata": {},
   "outputs": [],
   "source": []
  }
 ],
 "metadata": {
  "kernelspec": {
   "display_name": "Python 3 (ipykernel)",
   "language": "python",
   "name": "python3"
  },
  "language_info": {
   "codemirror_mode": {
    "name": "ipython",
    "version": 3
   },
   "file_extension": ".py",
   "mimetype": "text/x-python",
   "name": "python",
   "nbconvert_exporter": "python",
   "pygments_lexer": "ipython3",
   "version": "3.10.13"
  }
 },
 "nbformat": 4,
 "nbformat_minor": 5
}
