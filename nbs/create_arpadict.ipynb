{
 "cells": [
  {
   "cell_type": "code",
   "execution_count": 1,
   "id": "9ebd12c3-3a2f-47bd-8f77-e253cc420707",
   "metadata": {},
   "outputs": [],
   "source": [
    "from pathlib import Path\n",
    "from datetime import datetime"
   ]
  },
  {
   "cell_type": "code",
   "execution_count": 2,
   "id": "0c5d19a6-0b1f-4d98-80f0-3c8212341d41",
   "metadata": {},
   "outputs": [
    {
     "data": {
      "text/plain": [
       "datetime.datetime(2024, 3, 22, 23, 19, 40, 57029)"
      ]
     },
     "execution_count": 2,
     "metadata": {},
     "output_type": "execute_result"
    }
   ],
   "source": [
    "now = datetime.now()\n",
    "now"
   ]
  },
  {
   "cell_type": "code",
   "execution_count": null,
   "id": "7a9b3522-0cf4-41fa-999e-2df3eec60322",
   "metadata": {},
   "outputs": [],
   "source": []
  },
  {
   "cell_type": "code",
   "execution_count": 3,
   "id": "7d7996ba-1375-46b8-b475-b7dccfe3101c",
   "metadata": {},
   "outputs": [],
   "source": [
    "def flatten_list(nested_list):\n",
    "    result = []\n",
    "    for element in nested_list:\n",
    "        if isinstance(element, list):\n",
    "            result.extend(flatten_list(element))\n",
    "        else:\n",
    "            result.append(element)\n",
    "    return result"
   ]
  },
  {
   "cell_type": "code",
   "execution_count": 4,
   "id": "586e4285-75ec-490e-9b93-6aa6c226dc58",
   "metadata": {},
   "outputs": [
    {
     "data": {
      "text/plain": [
       "[PosixPath('source/dbp_clean/johor.list'),\n",
       " PosixPath('source/dbp_clean/kedah.list'),\n",
       " PosixPath('source/dbp_clean/kelantan.list'),\n",
       " PosixPath('source/dbp_clean/melaka.list'),\n",
       " PosixPath('source/dbp_clean/negeri.list'),\n",
       " PosixPath('source/dbp_clean/pahang.list')]"
      ]
     },
     "execution_count": 4,
     "metadata": {},
     "output_type": "execute_result"
    }
   ],
   "source": [
    "dbp_path = sorted(Path(\"./source/dbp_clean/\").glob(\"*.list\"))\n",
    "dbp_path"
   ]
  },
  {
   "cell_type": "code",
   "execution_count": 5,
   "id": "1e7ab7d9-b775-4bde-80ba-7ee6186283fa",
   "metadata": {},
   "outputs": [],
   "source": [
    "single_path = Path(\"./source/single.list\")\n",
    "common_path = Path(\"./source/common.list\")\n",
    "syllable_path = Path(\"./source/syllable.list\")"
   ]
  },
  {
   "cell_type": "code",
   "execution_count": 6,
   "id": "5c65d130-228b-4b24-ae55-d598aa7bd0ff",
   "metadata": {},
   "outputs": [
    {
     "data": {
      "text/plain": [
       "[PosixPath('source/syllable.list'),\n",
       " PosixPath('source/single.list'),\n",
       " PosixPath('source/common.list'),\n",
       " PosixPath('source/dbp_clean/johor.list'),\n",
       " PosixPath('source/dbp_clean/kedah.list'),\n",
       " PosixPath('source/dbp_clean/kelantan.list'),\n",
       " PosixPath('source/dbp_clean/melaka.list'),\n",
       " PosixPath('source/dbp_clean/negeri.list'),\n",
       " PosixPath('source/dbp_clean/pahang.list')]"
      ]
     },
     "execution_count": 6,
     "metadata": {},
     "output_type": "execute_result"
    }
   ],
   "source": [
    "paths = [syllable_path,single_path,common_path] + dbp_path\n",
    "paths"
   ]
  },
  {
   "cell_type": "code",
   "execution_count": 7,
   "id": "2829aa78-2b24-4353-b10f-df5512e72678",
   "metadata": {},
   "outputs": [],
   "source": [
    "contents = []\n",
    "for path in paths:\n",
    "    with open(path, 'r') as file:\n",
    "        content = file.read()\n",
    "        contents.append(content)"
   ]
  },
  {
   "cell_type": "code",
   "execution_count": 8,
   "id": "8ea4515f-1993-49f8-aa47-0d1908203ab2",
   "metadata": {},
   "outputs": [],
   "source": [
    "contents = flatten_list(contents)"
   ]
  },
  {
   "cell_type": "code",
   "execution_count": 9,
   "id": "e4e8d4fa-27a8-4b2a-bc56-12fbb3f3a0c0",
   "metadata": {},
   "outputs": [
    {
     "data": {
      "text/plain": [
       "['kelestarian lingkungan|K EH L EH S T AA R IY AA N L IH NG K UW NG AA N',\n",
       " 'pemanasan global|P EH M AA N AA S AA N G L OW B AA L',\n",
       " 'energi terbarukan|EH N ER JH IY T ER B AA R UW K AA N',\n",
       " 'pengelolaan sumber daya|P EH NG EH L OW L AA N S UW M B ER D AA Y AA',\n",
       " 'teknologi hijau|T EH K N OW L OW G IY HH IY JH UW',\n",
       " 'realitas maya|R IY AA L IH T AA S M AA Y AA',\n",
       " 'kecerdasan buatan|K EH CH ER D AA S AA N B UW AA T AA N',\n",
       " 'media digital|M IY D IY AA D IH JH IH T AA L',\n",
       " 'jaringan tanpa wayar|J AA R IH NG AA N T AA N P AA W AA Y AA R',\n",
       " 'pemasaran online|P EH M AA S AA R AA N OW N L AY N']"
      ]
     },
     "execution_count": 9,
     "metadata": {},
     "output_type": "execute_result"
    }
   ],
   "source": [
    "contentss = \"\\n\".join(contents).split(\"\\n\")\n",
    "contentss[-10:]"
   ]
  },
  {
   "cell_type": "code",
   "execution_count": 10,
   "id": "34c02607-7ee5-4635-b799-cc0343323d9d",
   "metadata": {},
   "outputs": [
    {
     "name": "stdout",
     "output_type": "stream",
     "text": [
      "['a|AH0', 'al|AH0 L', 'am|AH0 M', 'an|AH0 N', 'ang|AH0 NG', 'ap|AH0 P', 'ar|AH0 R', 'as|AH0 S', 'at|AH0 T', 'au|AW1', 'b|B', 'ba|B AA1', 'bab|B AE1 B', 'bah|B AA1', 'bai|B AY1', 'bak|B AE1 K', 'bal|B AE1 L', 'ban|B AE1 N', 'bang|B AE1 NG', 'bar|B AA1 R', 'bas|B AE1 S', 'bau|B AW1', 'be|B IY1', 'beh|B EH1', 'bek|B EH1 K', 'ben|B EH1 N', 'beng|B EH1 NG', 'ber|B ER', 'bes|B EH1 S', 'bi|B IH', 'big|B IH G', 'bih|B IH', 'bin|B IH N', 'bing|B IH NG', 'bio|B IH OW1', 'bit|B IH1 T', 'bloc|B L AA1 K', 'bo|B OW1', 'boh|B OW1 HH', 'bok|B OW1 K', 'bon|B OW1 N', 'bong|B OW1 NG', 'bot|B OW1 T', 'bu|B UW1', 'bua|B UW1 AH0', 'buah|B UW1 AH0 HH', 'buat|B UW1 AH0 T', 'bun|B UW1 N', 'but|B UW1 T', 'c|CH', 'ca|CH AH0', 'cak|CH AH0 K', 'cam|CH AH0 M', 'cang|CH AH0 NG', 'cap|CH AH0 P', 'ce|CH EY0', 'cem|CH EY0 M', 'cer|CH ER', 'chi|CH IY1', 'ci|CH IH', 'cik|CH IH K', 'cil|CH IH L', 'cin|CH IH N', 'cing|CH IH NG', 'clo|CH L OW1', 'co|CH OW1', 'cok|CH OW1 K', 'com|CH OW1 M', 'cot|CH OW1 T', 'crypto|K R IH1 P T OW0', 'cu|K UW1', 'cua|K UW1 AH0', 'cur|K UW1 ER0', 'cy|S AY1', 'cyber|S AY1 B ER0', 'cybers|S AY1 B ER0 Z', 'd|D', 'di|D IY1', 'da|D AH0', 'dah|D AH0 HH', 'dab|D AH0 B', 'eng|NG', 'es|EH1 S', 'et|EH1 T', 'f|F', 'fa|F AA1', 'fat|F AE1 T', 'fes|F EH1 S', 'fi|F IH1', 'fil|F IH1 L', 'fo|F OW1', 'for|F AO1 R', 'fra|F R AA1', 'fras|F R AA1 S', 'g|G', 'ga|G AA1', 'gah|G AA1', 'gaih|G AY1', 'gak|G AE1 K', 'gam|G AA1 M', 'gan|G AA1 N', 'gaq|G AA1 K', 'gas|G AA1 S', 'gau|G AW1', 'ge|G EH1', 'gem|G EH1 M', 'gen|G EH1 N', 'geng|G EH1 NG', 'gi|G IH1', 'gig|G IH1 G', 'gih|G IH1', 'glo|G L OW1', 'go|G OW1', 'gok|G OW1 K', 'gol|G OW1 L', 'gu|G UH1', 'guh|G UH1', 'gun|G UH1 N', 'gut|G UH1 T', 'h|HH', 'ha|HH AA1', 'hak|HH AE1 K', 'ham|HH AA1 M', 'han|HH AA1 N', 'hang|HH AA1 NG', 'hat|HH AE1 T', 'he|HH EH1', 'heh|HH EH1', 'hem|HH EH1 M', 'hi|HH IH1', 'hid|HH IH1 D', 'ho|HH OW1', 'hok|HH OW1 K', 'hon|HH OW1 N', 'hu|HH UH1', 'huan|HH W AA1 N', 'i|IH1', 'ik|IH1 K', 'ikh|IH1 K', 'im|IH1 M', 'in|IH1 N', 'ins|IH1 N S', 'is|IH1 S', 'it|IH1 T', 'j|JH', 'ja|JH AA1', 'jah|JH AA1', 'jai|JH AY1', 'jak|JH AE1 K', 'jam|JH AA1 M', 'jan|JH AA1 N', 'jang|JH AA1 NG', 'jap|JH AE1 P', 'jar|JH AA1 R', 'jas|JH AA1 S', 'jau|JH AW1', 'jauh|JH AW1', 'je|JH EH1', 'jen|JH EH1 N', 'ji|JH IH1', 'jid|JH IH1 D', 'jing|JH IH1 NG', 'jir|JH IH1 R', 'jo|JH OW1', 'jok|JH OW1 K', 'ju|JH UW1', 'juan|JH UW1 AA1 N', 'juh|JH UW1', 'jum|JH UW1 M', 'jun|JH UW1 N', 'jur|JH UW1 R', 'k|K', 'ka|K AH1', 'kai|K AH1 AY0', 'kak|K AH1 K', 'kal|K AH1 L', 'kam|K AH1 M', 'kan|K AH1 N', 'kang|K AH1 NG', 'kap|K AH1 P', 'kat|K AH1 T', 'kau|K AH1 UW0', 'kaw|K AO1', 'kchain|K CH EY1 N', 'ke|K EH1', 'keh|K EH1', 'kek|K EH1 K', 'kel|K EH1 L', 'ken|K EH1 N', 'keng|K EH1 NG', 'ker|K ER', 'ket|K EH1 T', 'ki|K IH1', 'kik|K IH1 K', 'kit|K IH1 T', 'kli|K L IY1', 'klu|K L UW1', 'ko|K OW1', 'koh|K OW1', 'kok|K OW1 K', 'kom|K OW1 M', 'kon|K OW1 N', 'kot|K OW1 T', 'kre|K R EY1', 'krip|K R IH1 P', 'ku|K UW1', 'kuah|K UW1 AH0', 'kuat|K UW1 AH0 T', 'kuk|K UW1 K', 'kul|K UW1 L', 'kum|K UW1 M', 'kun|K UW1 N', 'l|L', 'la|L AA1', 'lah|L AA1', 'lai|L AY1', 'lak|L AE1 K', 'lam|L AA1 M', 'lan|L AA1 N', 'lang|L AA1 NG', 'lans|L AA1 N S', 'lap|L AA1 P', 'lar|L AA1 R', 'las|L AA1 S', 'lat|L AE1 T', 'lau|L AW1', 'laut|L AW1 T', 'le|L EH1', 'leh|L EH1', 'lek|L EH1 K', 'lem|L EH1 M', 'len|L EH1 N', 'leng|L EH1 NG', 'les|L EH1 S', 'let|L EH1 T', 'li|L IH1', 'lih|L IH1', 'lik|L IH1 K', 'lim|L IH1 M', 'lin|L IH1 N', 'ling|L IH1 NG', 'lioh|L IY0 OW1', 'lis|L IH1 S', 'lit|L IH1 T', 'lo|L OW1', 'loh|L OW1', 'lok|L OW1 K', 'lom|L OW1 M', 'lon|L OW1 N', 'long|L OW1 NG', 'lot|L OW1 T', 'lu|L UW1', 'luaq|L UW1 AA1 K', 'luk|L UW1 K', 'lum|L UW1 M', 'lut|L UW1 T', 'm|M', 'ma|M AA1', 'mah|M AA1', 'mai|M AY1', 'main|M AY1 N', 'mak|M AE1 K', 'maks|M AE1 K S', 'mal|M AE1 L', 'mam|M AE1 M', 'man|M AE1 N', 'mang|M AE1 NG', 'mar|M AA1 R', 'mas|M AA1 S', 'mat|M AE1 T', 'mau|M AW1', 'me|M EH1', 'meh|M EH1', 'mek|M EH1 K', 'mem|M EH1 M', 'men|M EH1 N', 'meng|M EH1 NG', 'mer|M ER1', 'mi|M IH1', 'mig|M IH1 G', 'mik|M IH1 K', 'min|M IH1 N', 'mio|M IY0 OW1', 'mo|M OW1', 'mog|M OW1 G', 'moh|M OW1', 'mok|M OW1 K', 'mon|M OW1 N', 'mong|M OW1 NG', 'mu|M UW1', 'mud|M UH1 D', 'mul|M UH1 L', 'mung|M UH1 NG', 'n|N', 'na|N AA1', 'nab|N AE1 B', 'nah|N AA1', 'nak|N AE1 K', 'nal|N AE1 L', 'nam|N AE1 M', 'nan|N AE1 N', 'nang|N AE1 NG', 'nar|N AA1 R', 'nas|N AE1 S', 'nat|N AE1 T', 'nau|N AW1', 'ne|N EH1', 'neh|N EH1', 'nel|N EH1 L', 'nen|N EH1 N', 'ner|N ER', 'nes|N EH1 S', 'net|N EH1 T', 'nga|NG AA1', 'ngah|NG AA1', 'ngai|NG AY1', 'ngan|NG AE1 N', 'ngang|NG AE1 NG', 'ngap|NG AE1 P', 'ngat|NG AE1 T', 'nge|NG EH1', 'ngeh|NG EH1', 'ngen|NG EH1 N', 'ngeng|NG EH1 NG', 'ngi|NG IH1', 'ngik|NG IH1 K', 'ngin|NG IH1 N', 'ngit|NG IH1 T', 'ngo|NG OW1', 'ngoh|NG OW1', 'ngok|NG OW1 K', 'ngor|NG AO1 R', 'ngu|NG UW1', 'ngun|NG UW1 N', 'ni|N IH1', 'nik|N IH1 K', 'ning|N IH1 NG', 'nio|N IY0 OW1', 'no|N OW1', 'noh|N OW1', 'nok|N OW1 K', 'nom|N OW1 M', 'nop|N OW1 P', 'nu|N UW1', 'num|N UW1 M', 'nung|N UW1 NG', 'nyak|N Y AE1 K', 'nye|N Y EH1', 'nyet|N Y EH1 T', 'nyo|N Y OW1', 'nyu|N Y UW1', 'nyum|N Y UW1 M', 'o|OW1', 'of|AO1 F', 'og|AO1 G', 'oh|OW1', 'om|OW1 M', 'on|OW1 N', 'ong|OW1 NG', 'or|AO1 R', 'ot|OW1 T', 'p|P', 'pa|P AA1', 'pah|P AA1', 'pai|P AY1', 'paih|P AY1', 'pak|P AE1 K', 'pal|P AE1 L', 'pan|P AE1 N', 'pang|P AE1 NG', 'pap|P AE1 P', 'par|P AA1 R', 'pat|P AE1 T', 'pau|P AW1', 'paus|P AW1 S', 'pe|P EH1', 'peh|P EH1', 'pek|P EH1 K', 'pem|P EH1 M', 'pen|P EH1 N', 'peng|P EH1 NG', 'per|P ER', 'pes|P EH1 S', 'pi|P IH1', 'pin|P IH1 N', 'ping|P IH1 NG', 'plat|P L AE1 T', 'ple|P L EH1', 'po|P OW1', 'poh|P OW1', 'pok|P OW1 K', 'pon|P OW1 N', 'pong|P OW1 NG', 'poq|P OW1 K', 'por|P AO1 R', 'pos|P OW1 S', 'pre|P R EH1', 'prek|P R EH1 K', 'prog|P R OW1 G', 'psi|P S IH1', 'pu|P UW1', 'pua|P W AA1', 'puan|P W AA1 N', 'pub|P AH1 B', 'pus|P AH1 S', 'put|P UH1 T', 'q|K', 'qa|K AA1', 'r|R', 'ra|R AA1', 'rah|R AA1', 'rak|R AE1 K', 'ral|R AE1 L', 'ram|R AE1 M', 'ran|R AE1 N', 'rang|R AE1 NG', 'rap|R AE1 P', 'ras|R AE1 S', 'rat|R AE1 T', 'rau|R AW1', 're|R EH1', 'reh|R EH1', 'rek|R EH1 K', 'rem|R EH1 M', 'ren|R EH1 N', 'reng|R EH1 NG', 'res|R EH1 S', 'ri|R IH1', 'rin|R IH1 N', 'riok|R IY1 OW1 K', 'ris|R IH1 S', 'rit|R IH1 T', 'ro|R OW1', 'rog|R OW1 G', 'roh|R OW1', 'rok|R OW1 K', 'ron|R OW1 N', 'rong|R OW1 NG', 'rop|R OW1 P', 'ru|R UW1', 'ruan|R UW1 AA1 N', 'ruang|R UW1 AA1 NG', 'ruh|R UW1', 'rum|R UW1 M', 'run|R UW1 N', 'rung|R UW1 NG', 'rus|R AH1 S', 'rut|R UH1 T', 's|S', 'sa|S AA1', 'sah|S AA1', 'sain|S AY1 N', 'sains|S AY1 N S', 'sak|S AE1 K', 'sam|S AE1 M', 'san|S AE1 N', 'sang|S AE1 NG', 'sar|S AA1 R', 'sau|S AW1', 'se|S EH1', 'sel|S EH1 L', 'sem|S EH1 M', 'sen|S EH1 N', 'seng|S EH1 NG', 'sep|S EH1 P', 'ser|S ER1', 'set|S EH1 T', 'si|S IH1', 'sif|S IH1 F', 'sik|S IH1 K', 'sim|S IH1 M', 'sin|S IH1 N', 'sing|S IH1 NG', 'sio|S IY1 OW1', 'sir|S IH1 R', 'sis|S IH1 S', 'slu|S L UW1', 'so|S OW1', 'soh|S OW1', 'sok|S OW1 K', 'spe|S P EH1', 'spi|S P IH1', 'star|S T AA1 R', 'stra|S T R AA1', 'stu|S T UW1', 'su|S UW1', 'suk|S UW1 K', 'sum|S UW1 M', 'sung|S UW1 NG', 'sur|S UH1 R', 'sus|S UH1 S', 'sut|S UH1 T', 'sya|S Y AA1', 'syim|S Y IH1 M', 't|T', 'ta|T AA1', 'tah|T AA1', 'tai|T AY1', 'taih|T AY1', 'taik|T AY1 K', 'tak|T AE1 K', 'tal|T AE1 L', 'tam|T AE1 M', 'tan|T AE1 N', 'tang|T AE1 NG', 'tas|T AE1 S', 'tat|T AE1 T', 'tau|T AW1', 'te|T EH1', 'teh|T EH1', 'tek|T EH1 K', 'tel|T EH1 L', 'tem|T EH1 M', 'ter|T ER1', 'ther|TH ER1', 'thing|TH IH1 NG', 'ti|T IH1', 'tif|T IH1 F', 'tih|T IH1', 'tik|T IH1 K', 'ting|T IH1 NG', 'tir|T IH1 R', 'to|T OW1', 'tog|T OW1 G', 'tok|T OW1 K', 'tol|T OW1 L', 'tong|T OW1 NG', 'tor|T AO1 R', 'tos|T OW1 S', 'tra|T R AA1', 'trans|T R AE1 N S', 'trik|T R IH1 K', 'tro|T R OW1', 'truk|T R UW1 K', 'tsu|T S UW1', 'tu|T UW1', 'tua|T UW1 AA1', 'tual|T UW1 AE1 L', 'tuh|T UH1', 'tuk|T UW1 K', 'tum|T UW1 M', 'tun|T UW1 N', 'tung|T UW1 NG', 'tup|T UW1 P', 'tur|T UH1 R', 'u|UW1', 'ud|UH1 D', 'un|UH1 N', 'ur|UH1 R', 'ut|UH1 T', 'v|V', 'va|V AA1', 'vak|V AE1 K', 'val|V AE1 L', 'ver|V ER', 'vi|V IH1', 'vir|V IH1 R', 'vol|V OW1 L', 'w|W', 'wa|W AA1', 'wah|W AA1', 'wai|W AY1', 'wak|W AE1 K', 'wan|W AE1 N', 'war|W AO1 R', 'weh|W EH1', 'wek|W EH1 K', 'win|W IH1 N', 'wo|W OW1', 'wok|W OW1 K', 'x|K S', 'y|Y', 'ya|Y AA1', 'yah|Y AA1', 'yam|Y AE1 M', 'yan|Y AE1 N', 'yang|Y AE1 NG', 'yaq|Y AE1 K', 'yar|Y AA1 R', 'ye|Y EH1', 'yo|Y OW1', 'yong|Y OW1 NG', 'yu|Y UW1', 'yung|Y UW1 NG', 'yur|Y UH1 R', 'z|Z', 'zik|Z IH1 K', 'zin|Z IH1 N', 'zo|Z OW1', 'e|E', '0|K O S O NG', '1|S AH T UH', '2|D UW A', '3|T I G A', '4|EH M P AH T', '5|L I M A', '6|EH N AH M', '7|T U J UH', '8|L A P A N', '9|S EH M B I L A N', '11|S EH B EH L AH S', '12|D UW AH B EH L AH S', '13|T IY G AH B EH L AH S', '14|EH M P AH T B EH L AH S', '15|L IY M AH B EH L AH S', '16|EH N AH M B EH L AH S', '17|T UW J UW H B EH L AH S', '18|L AH P AH N B EH L AH S', '19|S EH M B IY L AH N B EH L AH S', 'sebelas|S EH B EH L AH S', 'dua belas|D UW AH B EH L AH S', 'tiga belas|T IY G AH B EH L AH S', 'empat belas|EH M P AH T B EH L AH S', 'lima belas|L IY M AH B EH L AH S', 'enam belas|EH N AH M B EH L AH S', 'tujuh belas|T UW J UW H B EH L AH S', 'lapan belas|L AH P AH N B EH L AH S', 'sembilan belas|S EH M B IY L AH N B EH L AH S', 'rumah (house)|R UW M AH', 'makan (eat)|M AA K AA N', 'minum (drink)|M IH N UW M', 'kucing (cat)|K UW CH IH NG', 'anjing (dog)|AA N J IH NG', 'sekolah (school)|S EH K OW L AH', 'buku (book)|B UW K UW', 'kereta (car)|K EH R EH T AA', 'motor (motorcycle)|M OW T OW R', 'pasar (market)|P AA S AA R', 'duit (money)|D UW IH T', 'sayang (love)|S AA Y AA NG', 'saya|S AA Y AA', 'laut (sea)|L AW T', 'pantai (beach)|P AA N T AA Y', 'gunung (mountain)|G UW N UW NG', 'sungai (river)|S UW NG G AA Y', 'hutan (forest)|H UW T AA N', 'bintang (star)|B IH N T AA NG', 'bulan (moon)|B UW L AA N', 'matahari (sun)|M AA T AA H AA R IH', 'pantai|P AA N T AY', 'kucing|K UW CH IH NG', 'pelangi|P EH L AA NG IY', 'awan|AA W AA N', 'bintang|B IH N T AA NG', 'sungai|S UW NG G AY', 'hujan|H UW JH AA N', 'pelajar|P EH L AA JH AA R', 'guru|G UW R UW', 'senyum|S EH N Y UW M', 'dunia|D UW N IY AA', 'bulan|B UW L AA N', 'bendera|B EH N D EH R AA', 'kawan|K AA W AA N', 'pergi|P EH R G IY', 'datang|D AA T AA NG', 'cari|K AA R IY', 'hati|H AA T IY', 'kamar|K AA M AA R', 'meja|M EH JH AA', 'kerusi|K EH R UW S IY', 'buku|B UW K UW', 'pintu|P IH N T UW', 'jendela|JH EH N D EH L AA', 'taman|T AA M AA N', 'sayur|S AY UW R', 'musim|M UW S IH M', 'pulang|P UW L AA NG', 'cerita|CH EH R IY T AA', 'lagu|L AA G UW', 'tari|T AA R IY', 'gambar|G AA M B AA R', 'warna|W AA R N AA', 'kertas|K EH R T AA S', 'pena|P EH N AA', 'sejarah|S EH JH AA R AH', 'geografi|G EH OW G R AA F IY', 'matematik|M AA T EH M AA T IH K', 'olahraga|OW L AH R AA G AA', 'seni|S EH N IY', 'muzik|M UW Z IH K', 'teknologi|T EH K N OW L OW G IY', 'perpustakaan|P EH R P UW S T AA K AA N', 'universiti|UW N IH V EH R S IH T IY', 'perayaan|P EH R AA Y AA N', 'upacara|UW P AA CH AA R AA', 'kebudayaan|K EH B UW D AA Y AA N', 'perjalanan|P ER JH AA L AA N AA N', 'pemandangan|P EH M AA N D AA NG AA N', 'keindahan|K EH IY N D AA H AA N', 'kenangan|K EH N AA NG AA N', 'persahabatan|P ER S AA H AA B AA T AA N', 'kebahagiaan|K EH B AA H AA G IY AA N', 'harapan|H AA R AA P AA N', 'impian|IH M P IY AA N', 'kegembiraan|K EH G EH M B IH R AA N', 'kesedihan|K EH S EH D IH H AA N', 'ketenangan|K EH T EH N AA NG AA N', 'pengorbanan|P EH NG OW R B AA N AA N', 'ketabahan|K EH T AA B AA H AA N', 'kesabaran|K EH S AA B AA R AA N', 'kejujuran|K EH JH UW JH UW R AA N', 'kemurahan|K EH M UW R AA H AA N', 'keikhlasan|K EH IH K L AA S AA N', 'kemuliaan|K EH M UW L IY AA N', 'pemurah|P EH M UW R AH', 'bijaksana|B IY JH AA K S AA N AA', 'kebun|K EH B UW N', 'lautan|L AW T AA N', 'binatang|B IY N AA T AA NG', 'kesihatan|K EH S IY H AA T AA N', 'pendidikan|P EH N D IY D IH K AA N', 'perdagangan|P EH R D AA G AA NG AA N', 'perkakasan|P EH R K AA K AA S AA N', 'pustaka|P UW S T AA K AA', 'kerajaan|K EH R AA JH AA N', 'pemerintahan|P EH M EH R IY T AA H AA N', 'keamanan|K EH AA M AA N AA N', 'keadilan|K EH AA D IY L AA N', 'kemanusiaan|K EH M AA N UW S IY AA N', 'kemajuan|K EH M AA JH UW AA N', 'pertanian|P EH R T AA N IY AA N', 'perikanan|P EH R IY K AA N AA N', 'pertukangan|P EH R T UW K AA NG AA N', 'kesenian|K EH S EH N IY AA N', 'perubatan|P EH R UW B AA T AA N', 'pelayaran|P EH L AA Y AA R AA N', 'penyelidikan|P EH N Y EH L IY D IH K AA N', 'kelestarian|K EH L EH S T AA R IY AA N', 'pendakian|P EH N D AA K IY AA N', 'petang|P EH T AA NG', 'siang|S IY AA NG', 'malam|M AA L AA M', 'mentari|M EH N T AA R IY', 'angin|AA NG IH N', 'bumi|B UW M IY', 'pasir|P AA S IH R', 'kilat|K IY L AA T', 'guruh|G UW R UW H', 'ombak|OW M B AA K', 'kayu|K AA Y UW', 'batu|B AA T UW', 'gunung|G UW N UH NG', 'sawah|S AA W AA H', 'jalan|JH AA L AA N', 'kota|K OW T AA', 'desa|D EH S AA', 'negara|N EH G AA R AA', 'bandar|B AA N D AA R', 'istana|IY S T AA N AA', 'rumput|R UW M P UW T', 'bunga|B UW NG G AA', 'daun|D AW N', 'samudra|S AA M UW D R AA', 'pelabuhan|P EH L AA B UW H AA N', 'kapal|K AA P AA L', 'ikan|IY K AA N', 'kerang|K EH R AA NG', 'pasang|P AA S AA NG', 'surut|S UW R UW T', 'karang|K AA R AA NG', 'pesisir|P EH S IH S IH R', 'teluk|T EH L UW K', 'gurun|G UW R UW N', 'oasis|OW AA S IH S', 'padang|P AA D AA NG', 'badai|B AA D AY', 'petir|P EH T IH R', 'banjir|B AA N JH IH R', 'kemarau|K EH M AA R AW', 'danau|D AA N AW', 'air terjun|AA IY R T EH R JH UW N', 'kereta|K EH R EH T AA', 'langit|L AA NG IH T', 'pagi|P AA G IY', 'doktor|D OW K T OW R', 'sekolah|S EH K OW L AH', 'masjid|M AA S JH IH D', 'pasar|P AA S AA R', 'anjing|AA N JH IH NG', 'burung|B UW R UH NG', 'ular|UW L AA R', 'pensel|P EH N S EH L', 'tasik|T AA S IH K', 'pulau|P UW L AW', 'hutan|H UW T AA N', 'gajah|G AA JH AH', 'harimau|H AA R IY M AW', 'serigala|S EH R IY G AA L AA', 'monyet|M OW N Y EH T', 'kambing|K AA M B IH NG', 'lembu|L EH M B UW', 'selam|S EH L AA M', 'layar|L AY AA R', 'nelayan|N EH L AY AA N', 'terumbu|T EH R UW M B UW', 'hiu|H IY UW', 'lumba-lumba|L UW M B AA L UW M B AA', 'penyu|P EH N Y UW', 'berudu|B EH R UW D UW', 'kura-kura|K UW R AA K UW R AA', 'orangutan|OW R AA NG UW T AA N', 'beruang|B EH R UW AA NG', 'kancil|K AA N CH IH L', 'rusa|R UW S AA', 'siput|S IY P UW T', 'cicak|CH IY CH AA K', 'tupai|T UW P AY', 'kelawar|K EH L AA W AA R', 'landak|L AA N D AA K', 'ayam|AAY AA M', 'itik|IY T IH K', 'merpati|M EH R P AA T IY', 'cinta|CH IH N T AA', 'perpisahan|P EH R P IH S AH H AA N', 'kerja|K EH R JH AH', 'belajar|B EH L AA JH AA R', 'masak|M AA S AA K', 'berlari|B EH R L AA R IY', 'menulis|M EH N UW L IH S', 'membaca|M EH M B AA CH AA', 'berenang|B EH R EH N AA NG', 'senja|S EH N JH AA', 'sinar|S IY N AA R', 'gelombang|G EH L OW M B AA NG', 'sampan|S AA M P AA N', 'demokrasi|D EH M OW K R AA S IY', 'monarki|M OW N AA R K IY', 'republik|R EH P UW B L IH K', 'diktator|D IH K T AA T OW R', 'filosofi|F IY L OW S OW F IY', 'etika|EH T IY K AA', 'logika|L OW G IY K AA', 'estetika|EH S T EH T IY K AA', 'metafisika|M EH T AA F IY S IY K AA', 'politik|P OW L IY T IH K', 'ekonomi|EH K OW N OW M IY', 'sosiologi|S OW S IY OW L OW G IY', 'psikologi|P S IY K OW L OW G IY', 'antropologi|AA N T R OW P OW L OW G IY', 'fizik|F IY Z IH K', 'kimia|K IH M IY AA', 'biologi|B IY OW L OW G IY', 'astronomi|AA S T R OW N OW M IY', 'linguistik|L IH NG G W IH S T IH K', 'senibina|S EH N IY B IY N AA', 'kejuruteraan|K EH JH UW R UW T EH R AA N', 'pencemaran|P EH N CH EH M AA R AA N', 'hijau|H IY JH AW', 'tenaga|T EH N AA G AA', 'sumber|S UW M B ER', 'inovasi|IY N OW V AA S IY', 'data|D AA T AA', 'algoritma|AA L G OW R IH T M AA', 'perisian|P EH R IY S IY AA N', 'jaringan|JH AA R IY NG AA N', 'digital|D IH JH IH T AA L', 'program|P R OW G R AA M', 'internet|IY N T ER N EH T', 'satelit|S AA T EH L IH T', 'robot|R OW B OW T', 'virtual|V ER CH UW AA L', 'media|M IY D IY AA', 'komunikasi|K OW M UW N IH K AA S IY', 'transportasi|T R AA N S P OW R T AA S IY', 'rekreasi|R EH K R EH AA S IY', 'turisme|T UW R IH S M EH', 'kreativiti|K R EH AH T IH V IH T IY', 'inspirasi|IH N S P IH R AA S IY', 'motivasi|M OW T IH V AA S IY', 'strategi|S T R AA T EH G IY', 'analisis|AA N AA L IH S IH S', 'bioteknologi|B IY OW T EH K N OW L OW G IY', 'nanoteknologi|N AA N OW T EH K N OW L OW G IY', 'ekosistem|EH K OW S IH S T EH M', 'biodiversiti|B IY OW D IH V ER S IH T IY', 'sustainable|S AH S T EY N AH B AH L', 'energi|EH N ER G IY', 'inovatif|IH N OW V AA T IH F', 'cybersecurity|S AY B ER S EH K Y UW R IH T IY', 'startup|S T AA R T UH P', 'blockchain|B L OW K CH EY N', 'cryptocurrency|K R IH P T OW K ER EH N S IY', 'artificial intelligence|AA R T IH F IH SH AH L IH N T EH L IH JH AH N S', 'machine learning|M AH SH IY N L ER N IH NG', 'big data|B IH G D AA T AH', 'cloud computing|K L AW D K AH M P UW T IH NG', 'warisan|W AA R IH S AA N', 'adat|AA D AA T', 'tradisi|T R AA D IH S IY', 'pakaian|P AA K AA Y AA N', 'masakan|M AA S AA K AA N', 'permainan|P ER M AA Y AA N', 'arkitektur|AA R K IH T EH K T UW R', 'pengetahuan|P EH NG EH T AA H UW AA N', 'peradaban|P EH R AA D AA B AA N', 'spiritual|S P IH R IH CH UW AA L', 'mitos|M IY T OW S', 'legenda|L EH G EH N D AA', 'festival|F EH S T IH V AA L', 'ritual|R IH CH UW AA L', 'heritage|H EH R IH T IH JH', 'modernisasi|M OW D EH R N IH S AA S IY', 'globalisasi|G L OW B AA L IH S AA S IY', 'urbanisasi|UW R B AA N IH S AA S IY', 'hak asasi|H AA K AA S AA S IY', 'kebebasan|K EH B EH B AA S AA N', 'kesehatan|K EH S EH T AA N', 'infrastruktur|IH N F R AA S T R UW K T UH R', 'telekomunikasi|T EH L EH K OW M UW N IH K AA S IY', 'biomedis|B IY OW M EH D IH S', 'genetik|JH EH N EH T IH K', 'kecerdasan buatan|K EH CH EH R D AA S AA N B UW AA T AA N', 'realiti maya|R IY AA L IH T IY M AA Y AA', 'pandemi|P AA N D EH M IY', 'vaksin|V AA K S IH N', 'karantina|K AA R AA N T IY N AA', 'ekspresi|EH K S P R EH S IY', 'konservasi|K OW N S ER V AA S IY', 'renovasi|R EH N OW V AA S IY', 'demografi|D EH M OW G R AA F IY', 'multikultural|M UH L T IY K UW L T UH R AA L', 'etnomusikologi|EH T N OW M Y UW Z IH K OW L OW G IY', 'fotografi|F OW T OW G R AA F IY', 'kulinari|K UW L IH N AA R IY', 'patiseri|P AA T IH S EH R IY', 'ekologi|EH K OW L OW G IY', 'hidroponik|H IH D R OW P OW N IH K', 'iklim|IH K L IH M', 'inframerah|IH N F R AH M EH R AA H', 'jurnalisme|JH UW R N AA L IH S M', 'biomassa|B IY OW M AA S S AA', 'kompos|K OW M P OW S', 'deforestasi|D EH F OW R EH S T AA S IY', 'geotermal|JH IY OW T ER M AA L', 'solar|S OW L AA R', 'turbina|T ER B IY N AA', 'windu|W IH N D UW', 'zink|Z IH N K', 'adaptasi|AA D AA P T AA S IY', 'bateri|B AA T ER IY', 'drone|D R OW N', 'elektrik|EH L EH K T R IH K', 'fiber|F AY B ER', 'gigabit|G IH G AA B IH T', 'hakisan|H AA K IH S AA N', 'implementasi|IH M P L EH M EH N T AA S IY', 'jelajah|JH EH L AA JH AH', 'kriptografi|K R IH P T OW G R AA F IY', 'lanskap|L AA N S K AA P', 'mikroplastik|M IH K R OW P L AA S T IH K', 'biodegradasi|B IY OW D EH G R AA D AA S IY', 'konservatif|K OW N S ER V AA T IH F', 'urban|UW R B AA N', 'antibiotik|AE N T IY B AY AA T IH K', 'fotosintesis|F OW T OW S IH N T EH S IH S', 'katalis|K AA T AA L IH S', 'simbiosis|S IH M B AY OW S IH S', 'eutrofikasi|Y UW T R OW F IH K AA S IY', 'hidrologi|H AY D R AA L OW G IY', 'limnologi|L IH M N OW L OW G IY', 'meteorologi|M IY T IY OW R AA L OW G IY', 'neurologi|N UW R AA L OW G IY', 'ornitologi|AO R N IH T AA L OW G IY', 'patologi|P AE T AA L OW G IY', 'sedimentasi|S EH D IH M EH N T AA S IY', 'toksikologi|T AA K S IH K AA L OW G IY', 'virologi|V AY R AA L OW G IY', 'zoologi|Z OW AA L OW G IY', 'pemuliharaan|P EH M UW L IH H AA R AA N', 'keanekaragaman|K EH AA N EH K AA R AA G AA M AA N', 'perubahan|P EH R UW B AH H AA N', 'sumber daya|S UW M B ER D AA Y AA', 'terbarukan|T ER B AA R UW K AA N', 'pengurangan|P EH NG UW R AA NG G AA N', 'sampah|S AA M P AH', 'pembangunan|P EH M B AA NG G UW N AA N', 'berkelanjutan|B ER K EH L AA N JH UW T AA N', 'matahari|M AA T AA H AA R IY', 'biogas|B AY OW G AA S', 'informasi|IH N F OW R M AA S IY', 'tradisional|T R AA D IH S IY OW N AA L', 'musik|M Y UW S IH K', 'tarian|T AA R IY AA N', 'kuliner|K UW L IH N ER', 'kepuasan|K EH P UW AA S AA N', 'keseimbangan|K EH S AY M B AA NG G AA N', 'pencapaian|P EH N CH AA P AY AA N', 'kelangsungan|K EH L AA NG S UW NG G AA N', 'keberhasilan|K EH B ER H AA S IH L AA N', 'pemulihan|P EH M UW L IH H AA N', 'kelestarian lingkungan|K EH L EH S T AA R IY AA N L IH NG K UW NG AA N', 'pemanasan global|P EH M AA N AA S AA N G L OW B AA L', 'energi terbarukan|EH N ER JH IY T ER B AA R UW K AA N', 'pengelolaan sumber daya|P EH NG EH L OW L AA N S UW M B ER D AA Y AA', 'teknologi hijau|T EH K N OW L OW G IY HH IY JH UW', 'realitas maya|R IY AA L IH T AA S M AA Y AA', 'media digital|M IY D IY AA D IH JH IH T AA L', 'jaringan tanpa wayar|J AA R IH NG AA N T AA N P AA W AA Y AA R', 'pemasaran online|P EH M AA S AA R AA N OW N L AY N', 'perubahan sosial|P EH R UW B AH H AA N S OW SH IY AA L', 'kesihatan mental|K EH S IH H AA T AA N M EH N T AA L', 'kebugaran jasmani|K EH B UW G AA R AA N JH AA S M AA N IY', 'pembelajaran jarak jauh|P EH M B EH L AA JH AA R AA N JH AA R AA K JH AW', 'kerja dari rumah|K EH R JH AA D AA R IY R UW M AH', 'ekonomi gig|EH K OW N OW M IY G IH G', 'platform digital|P L AE T F OW R M D IH JH IH T AA L', 'keamanan data|K EH AA M AA N AA N D AA T AA', 'realiti tertambah|R IY AA L IH T IY T EH R T AA M B AH', 'pembangunan lestari|P EH M B AA NG G UW N AA N L EH S T AA R IY', 'daya tahan lingkungan|D AA Y AA T AH H AA N L IH NG K UW NG AA N', 'pengurangan risiko|P EH NG UW R AA NG G AA N R IH S IH K OW', 'penyelidikan sains|P EH N Y EH L IH D IH K AA N S AY N S', 'inovasi berkelanjutan|IH N OW V AA S IY B ER K EH L AA N JH UW T AA N', 'kesedaran publik|K EH S EH D AA R AA N P UW B L IH K', 'pemetaan digital|P EH M EH T AA N D IH JH IH T AA L', 'kecerdasan artifisial|K EH CH ER D AA S AA N AA R T IH F IH S IY AA L', 'robotik sosial|R OW B OW T IH K S OW SH IY AA L', 'sains data|S AY N S D AA T AA', 'analisis big data|AA N AA L IH S IH S B IH G D AA T AA', 'energi surya|EH N ER JH IY S UW R Y AA', 'panel surya|P AA N EH L S UW R Y AA', 'manajemen bencana|M AA N AA JH EH M EH N B EH N CH AA N AA', 'keanekaragaman hayati|K EH AA N EH K AA R AA G AA M AA N H AA Y AA T IY', 'konservasi air|K OW N S ER V AA S IY AA IY R', 'reboisasi|RR EH B OW IH S AA S IY', 'urbanisasi berkelanjutan|UW R B AA N IH S AA S IY B ER K EH L AA N JH UW T AA N', 'digitalisasi|D IH JH IH T AA L IH S AA S IY', 'keamanan siber|K EH AA M AA N S AY B ER', 'teknologi maklumat|T EH K N OW L OW G IY M AA K L UW M AA T', 'internet of things|IH N T ER N EH T OW F TH IH NG Z', 'robotika|R OW B OW T IH K AA', 'telemedicine|T EH L EH M EH D IH S IH N', 'vaksinasi|V AA K S IH N AA S IY', 'epidemiologi|EH P IH D EH M IY OW L OW G IY', 'psikologi sosial|S AY K OW L OW G IY S OW SH IY AA L', 'antropologi budaya|AE N T R OW P OW L OW G IY B UW D AA Y AA', 'ekonomi mikro|EH K OW N OW M IY M IH K R OW', 'politik global|P OW L IH T IH K G L OW B AA L', 'pendidikan inklusif|P EH N D IH D IH K AA N IH N K L UW S IH F', 'badan|B AA D AH N (already provided)', 'kurus|K UH R UH S (already provided)', 'kedengkek|K EH D EH NG K EH K (already provided)', 'angkat|AE NG K AH T', 'besi|B EH S IY', 'kedengkeng|K EH D EH NG K EH NG', 'beketuntang|B EH K EH T UH N T AE NG', 'siapkan|S IY AH P K AH N', 'keje|K EH JH EH', 'rumah|R UH M AH', 'bele|B EH L EH', 'aji|AA JH IY', 'tebe|T EH B EH', 'belom|B EH L OH M', 'batas|B AA T AH S', 'kene|K EH N EH', 'kebak|K EH B AH K', 'dulu|D UH L UH', 'tanah|T AA N AH', 'kebon|K EH B OH N', 'bile|B IY L EH', 'dapat|D AA P AH T', 'nombo|N OH M B OH', 'satu|S AA T UH', 'die|D IY EH', 'itu|IY T UH', 'peel|P IY L', 'suke|S UH K EH', 'barang|B AA R AA NG', 'orang|O R AA NG', 'kalau|K AA L AW', 'anakanak|AA N AH K AA N AA K', 'kite|K IY T EH', 'ade|AA D EH', 'petemu|P EH T EH M UH', 'bebesanlah|B EH B EH S AH N L AH', 'minom|M IY N OH M', 'ae|AA EH', 'jarang|J AA R AA NG', 'bandeng|B AA N D EH NG', 'manes|M AA N EH S', 'lohe|L OH H EH', 'bena|B EH N AA', 'suwanye|S UW AH N Y EH', 'sampai|S AA M P AA Y', 'nampak|N AA M P AA K', 'kemas|K EH M AA S', 'mari|M AA R IY', 'dok|D OH K', 'atas|AA T AA S', 'amben|AA M B EH N', 'jangan|J AA NG AH N', 'lantai|L AA N T AA Y', 'pakai|P AA K AA Y', 'betolbetol|B EH T OHL B EH T OHL', 'seluwo|S EH L UW W OH', 'ala|AA L AA', 'ale|AA L EH', 'aje|AA JH EH', 'malu|M AA L UH', 'sejak|S EH JH AA K', 'mando|M AA N D OH', 'baru|B AA R UH', 'ambek|AA M B EH K', 'sempat|S EH M P AA T', 'tido|T IY D OH', 'ampa|AA M P AA', 'sedap|S EH D AA P', 'tapi|T AA P IY', 'gatal|G AA T AA L', 'abang|AA B AA NG', 'acik|AA C IY K', 'kudut|K UH D UH T', 'leweh|L EH W EH H', 'lontong|L OH N T OH NG', 'pencok|P EH N CH OH K', 'nenas|N EH N AH S', 'acaq|AH CH AH K', 'tepi|T EH P IY', 'busuk|B UH S UH K', 'depa|D EH P AH', 'hareta|H AH R EH T AH', 'pesaka|P EH S AH K AH', 'sorang|S OH R AH NG', 'serelong|S EH R EH L OH NG', 'lima|L IY M AH', 'puloh|P UH L OH H', 'dapoq|D AH P OH K', 'ajak|AH JH AH K', 'diala|D IY AH L AH', 'saheh|S AH H EH H', 'dia|D IY AH', 'maen|M AY N', 'acilut|AH C IY L UH T', 'ataeh|AH T AH EH', 'darat|D AH R AH T', 'buleh|B UH L EH H', 'dalam|D AH L AH M', 'ayaq|AH Y AH K', 'buboh|B UH B OH H', 'adan|AH D AH N', 'depan|D EH P AH N', 'bagi|B AH G IY', 'adek|AH D EH K', 'keluaq|K EH L UW AH K', 'adang|AH D AH NG', 'agaqagaq|AH G AH K AH G AH K', 'basah|B AH S AH H', 'gulong|G UH L OH NG', 'kerin|K EH R IHN', 'liat|L IY AH T', 'ahia|AH H IY AH', 'acu|AH CH UW', 'lenggok|L EH NG G OH K', 'alah|AA L AH', 'langik|L AA NG IH K', 'keleh|K EH L EH', 'aku|AA K UW', 'kebala|K EH B AA L AH', 'gapo|G AA P OH', 'diyo|D IY Y OH', 'buwak|B UW W AH K', 'ambo|AA M B OH', 'tolok|T OH L OH K', 'abih|AA B IH H', 'doh|D OH H', 'degih|D EH G IH H', 'jemo|J EH M OH', 'ike|IY K EH', 'atah|AA T AH', 'acok|AH CH OH K', 'kayo|K AA Y OH', 'agah|AA G AH H', 'age|AA G EH', 'akok|AA K OH K', 'andah|AA N D AH', 'cero|CH EH R OH', 'bapak|B AA P AA K', 'ibu|IY B UW', 'bileknye|B IH L EH K N Y EH', 'sekali|S EH K AA L IY', 'cobe|CH OW B EH', 'cangcang|CH AA NG CH AA NG', 'berape|B EH R AA P EH', 'gantang|G AA N T AA NG', 'beras|B EH R AA S', 'gune|G UW N EH', 'kenduri|K EH N D UW R IY', 'nanti|N AA N T IY', 'recak|R EH CH AA K', 'pangkal|P AA NG K AA L', 'pokok|P OH K OH K', 'pisang|P IY S AA NG', 'biau|B IY AW', 'subo|S UW B OH', 'durian|D UW R IY AA N', 'kulet|K UW L EH T', 'tebal|T EH B AA L', 'kena|K EH N AA', 'banyak|B AA N Y AA K', 'kali|K AA L IY', 'boleh|B OW L EH', 'bukak|B UW K AA K', 'eh|EH', 'penanggah|P EH N AA NG G AH', 'siap|S IY AA P', 'lagi|L AA G IY', 'mana|M AA N AA', 'letak|L EH T AA K', 'makanan|M AA K AA N AA N', 'jelat|J EH L AA T', 'beno|B EH N OW', 'budak|B UW D AA K', 'nasik|N AA S IH K', 'basi|B AA S IY', 'abes|AA B EH S', 'mempisang|M EH M P IY S AA NG', 'sapan|S AA P AA N', 'perahu|P EH R AA H UW', 'kiri|K IY R IY', 'kanan|K AA N AA N', 'betol|B EH T OHL', 'atuk|AH T UHK', 'engkau|EH NG K AW', 'cepat|CH EH P AH T', 'sikit|S IY K IHT', 'menyelanak|M EH N Y EH L AH N AH K', 'dekat|D EH K AH T', 'pekse|P EH K S EH', 'kerje|K EH R J EH', 'terokterok|T EH R OH K T EH R OH K', 'nampaknye|N AH M P AH K N Y EH', 'laot|L AW T', 'angen|AH NG EH N', 'gadai|G AH D AY', 'kencang|K EH N CH AH NG', 'semue|S EH M UW EH', 'beri|B EH R IY', 'kue|K UW EH', 'dan|D AH N', 'bunge|B UH NG G EH', 'telo|T EH L OH', 'abeh|AH B EH', 'sokampong|S OH K AH M P OH NG', 'korobau|K OH R OH B AW', 'mati|M AA T IY', 'sapue|S AH P UW EH', 'dek|D EH K', 'bandan|B AA N D AH N', 'ali|AA L IY', 'sungka|S UH NG K AH', 'sangkak|S AA NG K AH K', 'dikoja|D IY K OH J AH', 'kobau|K OH B AW', 'tongah|T OH NG AH', 'apo|AH P OH', 'dibiaan|D IY B IY AA N', 'rewai|R EH W AI', 'siket|S IH K EH T', 'den|D EH N', 'monyoranggau|M OH N Y OH R AH NG G AW', 'podehe|P OH D EH H EH', 'samba|S AA M B AH', 'bona|B OH N AH', 'ombong|OH M B OH NG', 'molantak|M OH L AH N T AH K', 'kundang|K UH N D AH NG', 'potak|P OH T AH K', 'lidahe|L IH D AH H EH', 'betih|B EH T IH', 'lonjan|L OH N J AH N', 'tolompau|T OH L OH M P AW', 'lamo|L AH M OH', 'bojalan|B OH J AH L AH N', 'bilo|B IY L OH', 'api|AH P IY', 'padam|P AH D AH M', 'tadi|T AA D IY', 'golap|G OH L AA P', 'bumin|B UU M IH N', 'sluruh|S L UU R UH H', 'jadie|J AA D IY EH', 'masok|M AA S OH K', 'utan|UW T AA N', 'ekau|EH K AW', 'kono|K OH N OH', 'ontok|OH N T OH K', 'buwek|B UW EH K', 'biseng|B IY S EH NG', 'konduri|K OH N D UU R IY', 'ponoh|P OH N OH H', 'pinggan|P IH NG G AA N', 'mangkuk|M AA NG K UU K', 'dilotak|D IY L OH T AA K', 'ponanggah|P OH N AA NG G AH H', 'bokolelong|B OH K OH L EH L OH NG', 'pisau|P IH S AW', 'jumpojumpo|J UH M P OH J UH M P OH', 'mano|M AA N OH', 'lotakan|L OH T AA K AH N', 'bukit|B UU K IH T', 'boleng|B OH L EH NG', 'utane|UW T AA N EH', 'ditobang|D IY T OH B AA NG', 'burong|B UU R OH NG', 'bojari|B OH J AA R IY', 'sibak|S IH B AA K', 'dimakan|D IH M AA K AA N', 'daki|D AA K IY', 'dio|D IY OH', 'hongeh|H OH NG EH H', 'tolampau|T OH L AA M P AW', 'kuek|K UU EH K', 'ribut|R IH B UU T', 'tadie|T AA D IY EH', 'dian|D IY AH N', 'dopan|D OH P AH N', 'tungka|T UH NG K AH', 'jobo|J OH B OH', 'dapek|D AH P EH K', 'numbo|N UH M B OH', 'eloklah|EH L OH K L AH', 'bobareh|B OH B AA R EH', 'botarak|B OH T AA R AH K', 'naek|N AA EH K', 'gareh|G AA R EH', 'tigo|T IY G OH', 'kalang|K AA L AH NG', 'laman|L AA M AH N', 'galah|G AA L AH', 'panjang|P AA N J AH NG', 'gaseng|G AA S EH NG', 'jonak|J OH N AH K', 'pusinge|P UU S IH NG EH', 'biakan|B IY AA K AH N', 'baju|B AA JH UU', 'bolantok|B OH L AH N T OH K', 'pigi|P IY G IY', 'debong|D EH B OH NG', 'gulai|G UU L AI', 'mangkok|M AA NG K OH K', 'copek|K OH P EH K', 'basie|B AA S IY EH', 'lancap|L AA N CH AA P', 'parang|P AA R AA NG', 'bia|B IY AH', 'tajam|T AA JH AA M', 'pusako|P UW S AA K OW', 'boyo|B OY Y OW', 'kito|K IY T OW', 'popangka|P OW P AA NG K AH', 'cincang|S IY N CH AA NG', 'lompap|L OW M P AA P', 'jadi|JH AA D IY', 'kolintau|K OW L IY N T AW', 'kopalo|K OW P AA L OW', 'disengkelete|D IY S EH NG K EH L EH T EH', 'bodarah|B OW D AA R AH', 'lele|L EH L EH', 'boto|B OW T OW', 'laen|L AA EH N', 'disuroh|D IY S UW R OW H', 'dibueke|D IY B UW EH K EH', 'lobai|L OW B AY', 'amat|AA M AA T', 'posan|P OW S AA N', 'baek|B AE K', 'longan|L OW NG AA N', 'kelensetan|K EH L EH N S EH T AA N', 'lopeh|L OW P EH', 'ujan|UW JH AA N', 'sayo|S AA Y OW', 'layu|L AA Y UW', 'codak|K OW D AA K', 'balik|B AA L IY K', 'moncodak|M OH N CH OW D AA K', 'lukisan|L UW K IH S AA N', 'lecok|L EH CH OW K', 'adik|AA D IH K', 'coreng|K OW R EH NG', 'dapo|D AA P OW', 'sobab|S OW B AA B', 'tesiram|T EH S IH R AA M', 'minyak|M IH N Y AA K', 'paneh|P AA N EH', 'pakukan|P AA K UW K AA N', 'kombi|K OW M B IY', 'sonang|S OW N AA NG', 'momaku|M OW M AA K UW', 'papan|P AA P AA N', 'dindeng|D IH N D EH NG', 'pasukan|P AA S UW K AA N', 'randai|R AA N D AY', 'dari|D AA R IY', 'longgeng|L OW NG G EH NG', 'kotuoe|K OW T UW OW EH', 'niko|N IY K OW', 'malen|M AA L EH N', 'hasyim|H AA S Y IH M', 'ponuleh|P OW N UW L EH', 'mogun|M OW G UW N', 'topi|T OW P IY', 'jorang|J OW R AA NG', 'tulih|T UW L IH H', 'corito|K OW R IY T OW', 'togo|T OW G OW', 'meong|M EH ONG', 'deh|D EH', 'tangane|T AA N G AA N EH', 'locot|L OW CH OW T', 'tokono|T OW K OW N OW', 'monggologak|M OW NG G OW L OW G AA K', 'tolong|T OW L OW NG', 'totomehan|T OW T OW M EH H AA N', 'anak|AA N AA K', 'baekbaek|B AE K B AE K', 'saket|S AA K EH T', 'torangkik|T OW R AA NG K IH K', 'pohon|P OH H OW N', 'elokla|EH L OW K L AH', 'turunkan|T UW R UW N K AH N', 'tukang|T UW K AH NG', 'ubek|UW B EH K', 'tuyung|T UW Y UH NG', 'ramai|R AH M AY', 'taka|T AA K AH', 'bolompap|B OW L OW M P AA P', 'disengkelet|D IH S EH NG K EH L EH T', 'kata|K AA T AA', 'kelenset|K EH L EH N S EH T', 'mongolokai|M OW NG G OW L OW K AY', 'monyoronggau|M OW N Y OW R OW NG G AW', 'sungku|S UW NG K UW', 'totomeh|T OW T OW M EH', 'tuyong|T UW Y OW NG', 'undang|UW N D AA NG', 'dengan|D EH NG G AH N', 'ayah|AA Y AH H', 'tebang|T EH B AA NG', 'cembang|CH EH M B AA NG', 'keri|K EH R IY', 'pesta|P EH S T AA', 'maenan|M AA EH N AA N', 'agan|AA G AA N', 'tumbang|T UW M B AA NG', 'sendiri|S EH N D IY R IY', 'aki|AA K IY', 'bako|B AA K OW', 'pedak|P EH D AA K', 'bare|B AA R EH', 'anok|AA N OH K', 'kalo|K AA L OW', 'demam|D EH M AA M', 'sokmo|S OH K M OW', 'selok|S EH L OH K', 'koi|K OY', 'sawan|S AA W AA N', 'telepah|T EH L EH P AA H', 'reban|R EH B AA N', 'kanyo|K AA N Y OW', 'koeh|K OW EH', 'basiko|B AA S IY K OW', 'beli|B EH L IY', 'nekeh|N EH K EH', 'pase|P AA S EH', 'ceremat|S EH R EH M AA T', 'bejoho|B EH JH OW H OW', 'rumoh|R UW M OH', 'abu|AA B UW', 'bininye|B IH N IH N Y EH', 'berahem|B EH R AA H EH M', 'lepaih|L EH P AA IH', 'temasok|T EH M AA S OW K', 'tandaih|T AA N D AA IH', 'perempuan|P EH R EH M P UW AA N', 'beso|B EH S OW', 'nebeng|N EH B EH NG', 'budakbudak|B UW D AA K B UW D AA K', 'lari|L AA R IY', 'cempiau|S EH M P IY AW', 'tengok|T EH NG OW K', 'mudem|M UW D EH M', 'cakaplah|CH AA K AA P L AH', 'beto|B EH T OW', 'bolot|B OW L OW T', 'faham|F AA H AA M', 'bila|B IY L AA', 'cucu|K UW CH UW', 'balek|B AA L EH K', 'lolok|L OW L OW K', 'ngege|NG EH G EH', 'ketoyong|K EH T OW Y OW NG', 'puko|P UW K OW', 'jahat|JH AH H AA T', 'tue|T UW EH', 'bangke|B AA NG K EH', 'supermarket|S UW P ER M AA R K EH T', 'emak|EH M AA K', 'pake|P AA K EH', 'kaen|K AA EH N', 'beseledoet|B EH S EH L EH D OW EH T', 'gone|G OW N', 'ikat|IY K AA T', 'tangsi|T AA NG S IY', 'kasut|K AA S UW T', 'esok|EH S OW K', 'sekoloh|S EH K OW L OW H', 'rempah|R EH M P AH', 'dende|D EH N D EH', 'kaki|K AA K IY', 'awok|AA W OW K', 'beseledot|B EH S EH L EH D OW T', 'bese|B EH S EH', 'gasing|G AA S IH NG', 'usahkan|UW S AA K AH N', 'mangkoh|M AA NG K OW', 'musing|M UW S IH NG', 'bekumpo|B EH K UW M P OW', 'takde|T AA K D EH', 'gelo|G EH L OW', 'tembok|T EH M B OW K', 'rimo|R IY M OW', 'pakoh|P AA K OW', 'reti|R EH T IY', 'beragaih|B EH R AA G AA IH', 'nyeberang|N Y EH B EH R AA NG', 'sungei|S UW NG G AY', 'kantan|K AA N T AA N', 'patah|P AA T AH', 'selak|S EH L AA K', 'tibe|T IH B EH', 'kerete|K EH R EH T EH', 'kemek|K EH M EH K', 'senggeng|S EH NG G EH NG', 'moto|M OW T OW', 'kesian|K IY S AA N', 'ngangkat|NG AA NG K AA T', 'guni|G UW N IY', 'sampe|S AA M P EH', 'geram|G EH R AA M', 'mamat|M AA M AA T', 'mileng|M IH L EH NG', 'nasehat|N AA S EH H AA T', 'sini|S IY N IY', 'kejap|K EH JH AA P', 'kaco|K AA CH OW', 'toye|T OW Y EH', 'muke|MUW K EH', 'lebah|L EH B AH', 'suka|S UW K AA', 'sarang|S AA R AA NG', 'lembong|L EH M B OW NG', 'mutan|M UW T AA N', 'melento|M EH L EH N T OW', 'buoh|B UW OW H', 'mabo|M AA B OW', 'pengetua|P EH NG G EH T UW AA', 'pangge|P AA NG G EH', 'majeleh|M AA JH EH L EH', 'mulo|M UW L OW', 'makan|M AA K AA N', 'budok|B UW D OW K', 'mentangmentang|M EH N T AA NG M EH N T AA NG', 'pangkat|P AA NG K AA T', 'ajok|AH JH OW K', 'tengoh|T EH NG OW', 'begudoh|B EH G UW D OH', 'macam|M AA K AA M', 'ketua|K EH T UW AA', 'melendut|M EH L EH N D UW T', 'dahan|D AA H AA N', 'denan|D EH N AA N', 'preksa|P R EH K S AA', 'baka|B AA K AA', 'peron|P EH R OW N', 'tunggu|T UW NG G UW', 'keseng|K EH S EH NG', 'maroh|M AA R OW H', 'sungguh|S UW NG G UW H', 'getah|G EH T AH', 'sekerap|S EH K EH R AA P', 'curi|K UW R IY', 'lepah|L EH P AH', 'teraweh|T EH R AA W EH H', 'bubo|B UW B OW', 'kacang|K AA CH AA NG', 'pemaen|P EH M AE N', 'bola|B OW L AA', 'selioh|S EH L IY OW H', 'penat|P EH N AA T', 'cuci|K UW CH IY', 'arus|AA R UH S', 'paleh|P AA L EH', 'tejeregut|T EH JH EH R EH G UW T', 'toke|T OW K EH', 'ataih|AA T AA IH', 'buket|B UW K EH T', 'lalu|L AA L UW', 'ribok|R IH B OW K', 'semalam|S EH M AA L AA M', 'periok|P EH R IY OW K', 'tambah|T AA M B AA H', 'takot|T AA K OW T', 'mate|M AA T EH', 'kekepak|K EH K EH P AA K', 'halau|H AA L AW', 'padi|P AA D IY', 'susoh|S UW S OW H', 'tangkap|T AA NG K AA P', 'potok|P OW T OW K', 'ii|IY IY', 'kecerdasan|K EH CH ER D AA S AA N', 'buatan|B UW AA T AA N', 'realiti|R EH AA L IH T IY', 'mayar|M AA Y AA R', 'pembelajaran|P EH M B EH L AA JH AA R AA N', 'siber|S AY B ER', 'elektronik|EH L EH K T R OW N IH K', 'pemasaran|P EH M AA S AA R AA N', 'sosial|S OW SH IY AA L', 'kerajinan|K EH R AA JH IH N AA N', 'panen|P AA N EH N', 'pemanasan|P EH M AA N AA S AA N', 'global|G L OW B AA L', 'pandemik|P AA N D EH M IH K', 'habitat|H AA B IH T AA T', 'nanopartikel|N AA N OW P AA R T IH K EH L', 'kesejahteraan|K EH S EH JH AH T EH R AA N', 'asasi|AA S AA S IY', 'lingkungan|L IH NG K UW NG AA N', 'arsitektur|AA R S IH T EH K T UW R', 'fotovoltaik|F OW T OW V OW L T AA IH K', 'biodegradable|B AY OW D IH G R AA D AH B AH L', 'filantropi|F IH L AE N T R OW P IY', 'humaniora|HH Y UW M AA N IY OW R AA', 'pembangkit|P EH M B AA NG K IH T', 'listrik|L IH S T R IH K', 'keberlanjutan|K EH B ER L AA N JH UW T AA N', 'pembaruan|P EH M B AA R UW AA N', 'pemrograman|P EH M R OW G R AA M AA N', 'robotik|R OW B OW T IH K', 'biomimikri|B AY OW M IH M IH K R IY', 'rekayasa|R EH K AA Y AA S AA', 'kriptokurensi|K R IH P T OW K UW R EH N S IY', 'gempa|G EH M P AA', 'tsunami|TS UW N AA M IY', 'biodiversitas|B AY OW D IH V ER S IH T AA S', 'spesies|S P IY S IY Z', 'kepupusan|K EH P UW P UW S AA N', 'klimaks|K L IH M AA K S', 'migrasi|M IH G R AA S IY', 'populasi|P OW P UW L AA S IY', 'predator|P R EH D AA T OW R', 'polusi|P OW L UW S IY', 'resirkulasi|R EH S IH R K UW L AA S IY', 'teknopreneur|T EH K N OW P R EH N UW R', 'bioenergi|B AY OW EH N ER JH IY', 'hidroelektrik|H AY D R OW EH L EH K T R IH K', 'dongeng|D OW NG EH NG', 'desain|D EH S AY N', 'penghijauan|P EH NG H IY JH AW AA N', 'geothermal|JH IY OW TH ER M AA L', 'cyberspace|S AY B ER S P EY S', 'mengajar|M EH NG AA JH AA R', 'menghitung|M EH NG H IH T UW NG', 'menggambar|M EH NG G AA M B AA R', 'bermain|B ER M AY N', 'berjalan|B ER JH AA L AA N', 'bercerita|B ER CH EH R IY T AA', 'ajarkan|AA JH AA R K AA N', 'tuliskan|T UW L IH S K AA N', 'bukakan|B UW K AA K AA N', 'cintai|CH IH N T AY', 'studi|S T UW D IY', 'hadiri|H AA D IH R IY', 'terjatuh|T ER JH AA T UW H', 'terlupa|T ER L UW P AA', 'terbangun|T ER B AA NG UW N', 'seragam|S EH R AA G AA M', 'sehati|S EH H AA T IY', 'keajaiban|K EH AA JH IY B AA N', 'keberanian|K EH B ER AA N IY AA N', 'pemandu|P EH M AA N D UW', 'kemasyarakatan|K EH M AA S Y AA R AA K AA T AA N', 'minuman|M IH N UW M AA N', 'resep|R EH S EH P', 'literatur|L IH T EH R AA T UW R', 'cuaca|CH UW AA CH AA', 'pembaharuan|P EH M B AA H AA R UW AA N', 'komputer|K OW M P UW T ER', 'media sosial|M IY D IY AA S OW SH IY AA L', 'kebijaksanaan|K EH B IY JH AA K S AA N AA N', 'budaya|B UW D AA Y AA', 'gastronomi|G AA S T R OW N OW M IY', 'filsafat|F IH L S AA F AA T', 'kreativitas|K R IY AE T IH V IH T AA S']\n"
     ]
    }
   ],
   "source": [
    "# Create a dictionary to store unique text entries and their associated ARPABET representations\n",
    "unique_entries = {}\n",
    "\n",
    "# Iterate through each entry and update the dictionary with only the first occurrence of each text entry\n",
    "for entry in contentss:\n",
    "    if not entry:\n",
    "        continue\n",
    "    text, arpabet = entry.split('|')\n",
    "    if text not in unique_entries:\n",
    "        unique_entries[text] = arpabet\n",
    "\n",
    "# Convert the unique dictionary entries back to a list of strings\n",
    "unique_list = [f\"{text.strip()}|{arpabet.strip()}\" for text, arpabet in unique_entries.items()]\n",
    "\n",
    "# Print the unique entries\n",
    "print(unique_list)"
   ]
  },
  {
   "cell_type": "code",
   "execution_count": 11,
   "id": "a6817efc-e224-4dec-a5e8-cefce1981ec9",
   "metadata": {},
   "outputs": [],
   "source": [
    "# Open a new file for writing the combined contents\n",
    "with open('combine.rep', 'w+') as combined_file:\n",
    "    \n",
    "    combined_file.write(f\"## Date:  {now.date()}\\n\")\n",
    "    combined_file.write(\"## Generated by DSMO\\n\\n\")\n",
    "    for data in unique_list:\n",
    "        combined_file.write(data.replace(\"|\",'  ') + '\\n')  # Adding a newline as a delimiter"
   ]
  },
  {
   "cell_type": "code",
   "execution_count": null,
   "id": "c94399cb-6594-4ce8-a817-cd1531832e2d",
   "metadata": {},
   "outputs": [],
   "source": []
  }
 ],
 "metadata": {
  "kernelspec": {
   "display_name": "Python 3 (ipykernel)",
   "language": "python",
   "name": "python3"
  },
  "language_info": {
   "codemirror_mode": {
    "name": "ipython",
    "version": 3
   },
   "file_extension": ".py",
   "mimetype": "text/x-python",
   "name": "python",
   "nbconvert_exporter": "python",
   "pygments_lexer": "ipython3",
   "version": "3.10.13"
  }
 },
 "nbformat": 4,
 "nbformat_minor": 5
}
